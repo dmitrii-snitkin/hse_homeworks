{
 "cells": [
  {
   "cell_type": "markdown",
   "metadata": {},
   "source": [
    "# PDB structure analysis\n",
    "\n",
    "## List of software used in the work\n",
    "\n",
    "The work was performed in JupyterLab 4.0.6; on the Linux operating system Ubuntu 22.04.3 LTS. List of software used in the work:\n",
    "\n",
    "|Название|Версия|\n",
    "|--|--|\n",
    "|NumPy|1.26.0|\n",
    "|Seaborn|0.13.0|\n",
    "|SciPy|1.11.3|\n",
    "|nglview|3.0.8|\n",
    "|MDAnalysis|2.6.1|\n",
    "|ProDy|2.4.0|\n",
    "|pdb2pqr|3.6.1|\n",
    "|propka|3.5.0|\n",
    "|reduce|3.24|\n",
    "|UCSF Chimera|1.17.3|\n",
    "\n",
    "Choose and load a PBD structure and perform the steps below:\n",
    "\n",
    "1. Add hydrogens to the PDB structure.\n",
    "2. Determine hydrogen bonds.\n",
    "3. Construct Ramachandran plot.\n",
    "4. Build contact map.\n",
    "5. Determine the protonation state of ionized amino acid residues.\n",
    "6. Define electrostatic surface.\n",
    "7. Performe dynamics analysis using anisotropic network model (ANM)."
   ]
  },
  {
   "cell_type": "markdown",
   "metadata": {},
   "source": [
    "## Load all packages"
   ]
  },
  {
   "cell_type": "code",
   "execution_count": 100,
   "metadata": {},
   "outputs": [
    {
     "name": "stdout",
     "output_type": "stream",
     "text": [
      "The autoreload extension is already loaded. To reload it, use:\n",
      "  %reload_ext autoreload\n"
     ]
    }
   ],
   "source": [
    "%load_ext autoreload\n",
    "%autoreload 2\n",
    "import warnings\n",
    "warnings.filterwarnings('ignore')"
   ]
  },
  {
   "cell_type": "code",
   "execution_count": 101,
   "metadata": {},
   "outputs": [],
   "source": [
    "import numpy as np\n",
    "import matplotlib.pyplot as plt\n",
    "from matplotlib.patches import Rectangle\n",
    "import seaborn as sns\n",
    "from scipy.spatial.distance import pdist,squareform\n",
    "\n",
    "import nglview as nv\n",
    "import MDAnalysis\n",
    "from MDAnalysis.analysis.dihedrals import Dihedral\n",
    "from MDAnalysis.analysis.dihedrals import Ramachandran\n",
    "import prody"
   ]
  },
  {
   "cell_type": "markdown",
   "metadata": {},
   "source": [
    "## Load and visualize a PDB structure\n",
    "\n",
    "In this work I used the PDB structure: [**5LF2**](https://www.rcsb.org/structure/5LF2) (laminin beta2 LE5-LF-LE6)\n",
    "\n",
    "Laminins are glycoproteins that are one of the most important components of the base membrane and are involved in cell adhesion.\n",
    "\n",
    "Downloaded the PDB structure."
   ]
  },
  {
   "cell_type": "code",
   "execution_count": 103,
   "metadata": {},
   "outputs": [],
   "source": [
    "struct_id = '5LF2'"
   ]
  },
  {
   "cell_type": "code",
   "execution_count": 104,
   "metadata": {
    "scrolled": true
   },
   "outputs": [
    {
     "name": "stdout",
     "output_type": "stream",
     "text": [
      "--2023-10-22 20:50:32--  https://files.rcsb.org/view/5LF2.pdb\n",
      "Распознаётся files.rcsb.org (files.rcsb.org)… 128.6.159.157, 132.249.213.193, 132.249.213.241, ...\n",
      "Подключение к files.rcsb.org (files.rcsb.org)|128.6.159.157|:443... соединение установлено.\n",
      "HTTP-запрос отправлен. Ожидание ответа… 200 OK\n",
      "Длина: нет данных [text/plain]\n",
      "Сохранение в: ‘5LF2.pdb’\n",
      "\n",
      "5LF2.pdb                [      <=>           ]   1,16M  97,1KB/s    за 11s     \n",
      "\n",
      "2023-10-22 20:50:45 (106 KB/s) - ‘5LF2.pdb’ сохранён [1219293]\n",
      "\n"
     ]
    }
   ],
   "source": [
    "!wget https://files.rcsb.org/view/{struct_id}.pdb"
   ]
  },
  {
   "cell_type": "markdown",
   "metadata": {},
   "source": [
    "Explored its content."
   ]
  },
  {
   "cell_type": "code",
   "execution_count": 105,
   "metadata": {},
   "outputs": [
    {
     "name": "stdout",
     "output_type": "stream",
     "text": [
      "HEADER    CELL ADHESION                           30-JUN-16   5LF2              \n",
      "TITLE     CRYSTAL STRUCTURE OF LAMININ BETA2 LE5-LF-LE6                         \n",
      "COMPND    MOL_ID: 1;                                                            \n",
      "COMPND   2 MOLECULE: LAMININ SUBUNIT BETA-2;                                    \n",
      "COMPND   3 CHAIN: A, B;                                                         \n",
      "COMPND   4 FRAGMENT: UNP RESIDUES 523-833;                                      \n",
      "COMPND   5 SYNONYM: LAMININ CHAIN B3,LAMININ-11 SUBUNIT BETA,LAMININ-14 SUBUNIT \n",
      "COMPND   6 BETA,LAMININ-15 SUBUNIT BETA,LAMININ-3 SUBUNIT BETA,LAMININ-4 SUBUNIT\n",
      "COMPND   7 BETA,LAMININ-7 SUBUNIT BETA,LAMININ-9 SUBUNIT BETA,S-LAMININ SUBUNIT \n",
      "COMPND   8 BETA,S-LAM BETA;                                                     \n"
     ]
    }
   ],
   "source": [
    "!head {struct_id}.pdb"
   ]
  },
  {
   "cell_type": "markdown",
   "metadata": {},
   "source": [
    "Viewed the structure."
   ]
  },
  {
   "cell_type": "code",
   "execution_count": 106,
   "metadata": {},
   "outputs": [
    {
     "data": {
      "application/vnd.jupyter.widget-view+json": {
       "model_id": "0442cd8010f04f8cb9d28eb2169be16d",
       "version_major": 2,
       "version_minor": 0
      },
      "text/plain": [
       "NGLWidget()"
      ]
     },
     "metadata": {},
     "output_type": "display_data"
    }
   ],
   "source": [
    "view = nv.show_structure_file(f'{struct_id}.pdb')\n",
    "view"
   ]
  },
  {
   "cell_type": "markdown",
   "metadata": {},
   "source": [
    "## 1. Addition of hydrogens to structure\n",
    "\n",
    "Using the `reduce` utility, I added hydrogens and saved them to a separate file."
   ]
  },
  {
   "cell_type": "code",
   "execution_count": 107,
   "metadata": {
    "scrolled": true
   },
   "outputs": [
    {
     "name": "stdout",
     "output_type": "stream",
     "text": [
      "reduce: version 3.24 07/24/2013, Copyright 1997-2013, J. Michael Word\n",
      "Processing file: \"5LF2.pdb\"\n",
      "Database of HETATM connections: \"/home/snitkin/anaconda3/envs/molmodel/share/reduce/reduce_wwPDB_het_dict.txt\"\n",
      "VDW dot density = 16/A^2\n",
      "Orientation penalty scale = 1 (100%)\n",
      "Eliminate contacts within 3 bonds.\n",
      "Ignore atoms with |occupancy| <= 0.01 during adjustments.\n",
      "Waters ignored if B-Factor >= 40 or |occupancy| < 0.66\n",
      "Aromatic rings in amino acids accept hydrogen bonds.\n",
      "Building or keeping OH & SH Hydrogens.\n",
      "Rotating NH3 Hydrogens.\n",
      "Processing Met methyls.\n",
      "*WARNING*: Residues ARG 704  and SER 714  in chain  A appear unbonded \n",
      "            and will be treated as a chain break\n",
      "*WARNING*: Residues ARG 704  and SER 714  in chain  A appear unbonded \n",
      "            and will be treated as a chain break\n",
      "*WARNING*: Residues ARG 704  and GLY 713  in chain  B appear unbonded \n",
      "            and will be treated as a chain break\n",
      "*WARNING*: Residues ARG 704  and GLY 713  in chain  B appear unbonded \n",
      "            and will be treated as a chain break\n",
      " Singles(size 10): A 693 LYS NZ  : A 695 LYS NZ  : A 697 LYS NZ  : A 761 LYS NZ  \n",
      "  : A 808 LYS NZ  : B 693 LYS NZ  : B 695 LYS NZ  : B 697 LYS NZ  : B 761 LYS NZ  \n",
      "  : B 808 LYS NZ  \n",
      " orientation 4: A 693 LYS NZ  :NH3+   -112: bump=0.000, HB=0.451, total=0.451\n",
      " orientation 1: A 695 LYS NZ  :NH3+    180: bump=0.000, HB=0.000, total=0.000\n",
      " orientation 1: A 697 LYS NZ  :NH3+    180: bump=0.000, HB=0.000, total=0.000\n",
      " orientation 1: A 761 LYS NZ  :NH3+   -178: bump=-0.003, HB=2.979, total=2.976\n",
      " orientation 1: A 808 LYS NZ  :NH3+    178: bump=0.000, HB=3.781, total=3.781\n",
      " orientation 1: B 693 LYS NZ  :NH3+    180: bump=0.000, HB=0.000, total=0.000\n",
      " orientation 1: B 695 LYS NZ  :NH3+    180: bump=0.000, HB=0.000, total=0.000\n",
      " orientation 1: B 697 LYS NZ  :NH3+    180: bump=0.000, HB=0.000, total=0.000\n",
      " orientation 4: B 761 LYS NZ  :NH3+   -118: bump=-0.337, HB=2.141, total=1.804\n",
      " orientation 3: B 808 LYS NZ  :NH3+    166: bump=0.000, HB=2.342, total=2.342\n",
      "Found 4393 hydrogens (0 hets)\n",
      "Standardized 5749 hydrogens (0 hets)\n",
      "Added 2 hydrogens (0 hets)\n",
      "Removed 0 hydrogens (0 hets)\n",
      "Adjusted 5 group(s)\n",
      "If you publish work which uses reduce, please cite:\n",
      "Word, et. al. (1999) J. Mol. Biol. 285, 1735-1747.\n",
      "For more information see http://kinemage.biochem.duke.edu\n"
     ]
    }
   ],
   "source": [
    "!reduce {struct_id}.pdb > {struct_id}_reduce.pdb"
   ]
  },
  {
   "cell_type": "markdown",
   "metadata": {},
   "source": [
    "Hydrogens have been added with the label `new`."
   ]
  },
  {
   "cell_type": "code",
   "execution_count": 117,
   "metadata": {},
   "outputs": [
    {
     "name": "stdout",
     "output_type": "stream",
     "text": [
      "ATOM      0  H   ARG A 545      26.810  66.597  69.528  1.00 51.79           H   new\n",
      "ATOM      0  H   ARG B 545      63.031  20.529   5.762  1.00 49.11           H   new\n"
     ]
    }
   ],
   "source": [
    "!grep \"\\snew$\" {struct_id}_reduce.pdb"
   ]
  },
  {
   "cell_type": "markdown",
   "metadata": {},
   "source": [
    "## 2. Determination of hydrogen bonds"
   ]
  },
  {
   "cell_type": "markdown",
   "metadata": {},
   "source": [
    "Загрузил PDB структуру в UCSF Chimera. Изобразил в виде палочек и шариков: `Actions > Atoms/Bonds > ball & stick`. Зашёл в меню: `Tools > Structure Analysis > FindHBond`. Выбрал толщину водородных связей `Line width` равной 3.0. Нажал `Apply`, получил изображение с водородными связями:\n",
    "\n",
    "Uploaded PDB structure to UCSF Chimera. Depicted in the form of balls and sticks: `Actions > Atoms/Bonds > ball & stick`. I went to the menu: `Tools > Structure Analysis > FindHBond`. I chose the thickness of hydrogen bonds `Line width` to be 3.0. Clicked `Apply` and got an image with hydrogen bonds:\n",
    "\n",
    "![](fig.1.png)"
   ]
  },
  {
   "cell_type": "markdown",
   "metadata": {},
   "source": [
    "## 3. Dihedral angles analysis\n",
    "\n",
    "Constructed a Ramachandran plot showing the relationship between the dihedral angles $\\phi$ and $\\psi$. I indicated the typical arrangement of beta sheets and right- and left-handed alpha helices."
   ]
  },
  {
   "cell_type": "code",
   "execution_count": 139,
   "metadata": {},
   "outputs": [
    {
     "data": {
      "image/png": "[encoded data removed]",
      "text/plain": [
       "<Figure size 480x480 with 1 Axes>"
      ]
     },
     "metadata": {},
     "output_type": "display_data"
    }
   ],
   "source": [
    "univ = MDAnalysis.Universe(f'{struct_id}.pdb')\n",
    "select = univ.select_atoms('protein and name CA')\n",
    "ramach = Ramachandran(select).run()\n",
    "\n",
    "fig, ax = plt.subplots(figsize=plt.figaspect(1))\n",
    "ramach.plot(ax=ax, color='lightpink', marker='.')\n",
    "ax.add_patch (Rectangle((-170, 50), 125, 125,\n",
    "    edgecolor='red',\n",
    "    facecolor='none',\n",
    "    lw= 1))\n",
    "plt.text(-170, 50, \"$\\\\beta-лист$\")\n",
    "\n",
    "ax.add_patch (Rectangle((-130, -50), 100, 30,\n",
    "    edgecolor='red',\n",
    "    facecolor='none',\n",
    "    lw= 1))\n",
    "plt.text(-130, -50, \"$\\\\alpha-спираль(\\\\rightarrow$)\")\n",
    "\n",
    "ax.add_patch (Rectangle((45, 30), 20, 80,\n",
    "    edgecolor='red',\n",
    "    facecolor='none',\n",
    "    lw= 1))\n",
    "plt.text(45, 30, \"$\\\\alpha-спираль(\\\\leftarrow$)\")\n",
    "\n",
    "plt.show()"
   ]
  },
  {
   "cell_type": "markdown",
   "metadata": {},
   "source": [
    "## 4. Building contact map\n",
    "\n",
    "I calculated the matrix of distances of all atoms with all and wrote it into the `dist_matrix` variable. Based on it, I built a contact map."
   ]
  },
  {
   "cell_type": "code",
   "execution_count": 110,
   "metadata": {},
   "outputs": [
    {
     "data": {
      "image/png": "[encoded data removed]",
      "text/plain": [
       "<Figure size 640x480 with 1 Axes>"
      ]
     },
     "metadata": {},
     "output_type": "display_data"
    }
   ],
   "source": [
    "atoms_pos = select.atoms.positions\n",
    "dist_matrix = squareform(pdist(atoms_pos))\n",
    "plt.imshow(np.where(dist_matrix < 12, 1, 0),\n",
    "           interpolation='nearest')\n",
    "plt.gca().invert_yaxis()\n",
    "plt.show()"
   ]
  },
  {
   "cell_type": "markdown",
   "metadata": {},
   "source": [
    "## 5. Determination of the protonation state of ionized amino acid residues\n",
    "\n",
    "Determined the protonation of amino acid residues in a protein using `propka3`."
   ]
  },
  {
   "cell_type": "code",
   "execution_count": 111,
   "metadata": {},
   "outputs": [
    {
     "name": "stdout",
     "output_type": "stream",
     "text": [
      "Unexpected number (5) of atoms in residue ARG 523 A   in conformation 1A\n",
      "Unexpected number (5) of atoms in residue ASP 526 A   in conformation 1A\n",
      "Unexpected number (5) of atoms in residue GLN 536 A   in conformation 1A\n",
      "Unexpected number (5) of atoms in residue ASP 538 A   in conformation 1A\n",
      "Unexpected number (5) of atoms in residue GLU 539 A   in conformation 1A\n",
      "Unexpected number (5) of atoms in residue ARG 545 A   in conformation 1A\n",
      "Unexpected number (5) of atoms in residue HIS 578 A   in conformation 1A\n",
      "Unexpected number (5) of atoms in residue VAL 581 A   in conformation 1A\n",
      "Unexpected number (5) of atoms in residue ASN 591 A   in conformation 1A\n",
      "Unexpected number (5) of atoms in residue ARG 592 A   in conformation 1A\n",
      "Unexpected number (5) of atoms in residue GLU 593 A   in conformation 1A\n",
      "Unexpected number (5) of atoms in residue GLU 766 A   in conformation 1A\n",
      "Unexpected number (5) of atoms in residue ARG 545 B   in conformation 1A\n",
      "Unexpected number (5) of atoms in residue ARG 592 B   in conformation 1A\n",
      "Unexpected number (5) of atoms in residue GLU 593 B   in conformation 1A\n",
      "Unexpected number (5) of atoms in residue ARG 704 B   in conformation 1A\n",
      "Missing atoms or failed protonation for SER 714 A (BBN) -- please check the structure\n",
      "Group (BBN) for  2740-   N   714-SER (A) [  22.667   23.762   31.058] N\n",
      "Expected 2 interaction atoms for acids, found:\n",
      "                 0-  H1   714-SER (A) [  22.766   22.788   30.809] H\n",
      "                 0-  H2   714-SER (A) [  23.570   24.213   31.018] H\n",
      "              2740-   N   714-SER (A) [  22.667   23.762   31.058] N\n",
      "Expected 2 interaction atoms for bases, found:\n",
      "                 0-  H1   714-SER (A) [  22.766   22.788   30.809] H\n",
      "                 0-  H2   714-SER (A) [  23.570   24.213   31.018] H\n",
      "              2740-   N   714-SER (A) [  22.667   23.762   31.058] N\n",
      "Missing atoms or failed protonation for GLY 713 B (BBN) -- please check the structure\n",
      "Group (BBN) for  7227-   N   713-GLY (B) [  26.064   65.108   22.763] N\n",
      "Expected 2 interaction atoms for acids, found:\n",
      "                 0-  H1   713-GLY (B) [  26.063   65.067   23.772] H\n",
      "                 0-  H2   713-GLY (B) [  25.250   65.616   22.446] H\n",
      "              7227-   N   713-GLY (B) [  26.064   65.108   22.763] N\n",
      "Expected 2 interaction atoms for bases, found:\n",
      "                 0-  H1   713-GLY (B) [  26.063   65.067   23.772] H\n",
      "                 0-  H2   713-GLY (B) [  25.250   65.616   22.446] H\n",
      "              7227-   N   713-GLY (B) [  26.064   65.108   22.763] N\n"
     ]
    }
   ],
   "source": [
    "!propka3 {struct_id}.pdb"
   ]
  },
  {
   "cell_type": "markdown",
   "metadata": {},
   "source": [
    "I output the result to the console. The protonation state is determined by the dissociation constant, equal to the ratio of the product of the equilibrium concentrations of individual ions to the equilibrium concentration of the whole acid:\n",
    "\n",
    "$pK_a=\\frac{[A^-][H^+]}{[AH]}$\n",
    "\n",
    "Each chemical group of amino acids has its own theoretical value $pK_a$, with which the calculated value is compared. If the calculated value is higher than the theoretical value, then that chemical group (for example, carboxyl) is more prone to deprotonation and vice versa."
   ]
  },
  {
   "cell_type": "code",
   "execution_count": 112,
   "metadata": {},
   "outputs": [
    {
     "name": "stdout",
     "output_type": "stream",
     "text": [
      "SUMMARY OF THIS PREDICTION\n",
      "       Group      pKa  model-pKa   ligand atom-type\n",
      "   ASP 528 A     3.88       3.80                      \n",
      "   ASP 534 A     4.01       3.80                      \n",
      "   ASP 568 A     3.50       3.80                      \n",
      "   ASP 623 A     4.81       3.80                      \n",
      "   ASP 625 A     3.47       3.80                      \n",
      "   ASP 664 A     3.85       3.80                      \n",
      "   ASP 665 A     4.15       3.80                      \n",
      "   ASP 719 A     6.11       3.80                      \n",
      "   ASP 737 A     2.85       3.80                      \n"
     ]
    }
   ],
   "source": [
    "!grep \"SUMMARY OF THIS PREDICTION\" {struct_id}.pka -A 10"
   ]
  },
  {
   "cell_type": "markdown",
   "metadata": {},
   "source": [
    "## 6. Definition of electrostatic surface\n",
    "\n",
    "Used the programs `pdb2pqr` and `apbs` to create files with the extensions `.pqr` and `.dx` respectively."
   ]
  },
  {
   "cell_type": "code",
   "execution_count": 113,
   "metadata": {
    "scrolled": true
   },
   "outputs": [
    {
     "name": "stdout",
     "output_type": "stream",
     "text": [
      "INFO:PDB2PQR v3.6.1: biomolecular structure conversion software.\n",
      "INFO:Please cite:  Jurrus E, et al.  Improvements to the APBS biomolecular solvation software suite.  Protein Sci 27 112-128 (2018).\n",
      "INFO:Please cite:  Dolinsky TJ, et al.  PDB2PQR: expanding and upgrading automated preparation of biomolecular structures for molecular simulations. Nucleic Acids Res 35 W522-W525 (2007).\n",
      "INFO:Checking and transforming input arguments.\n",
      "INFO:Loading topology files.\n",
      "INFO:Loading molecule: 5LF2.pdb\n",
      "INFO:Setting up molecule.\n",
      "WARNING:Unable to find amino or nucleic acid definition for CA.  Parsing as new residue.\n",
      "WARNING:Unable to find amino or nucleic acid definition for CL.  Parsing as new residue.\n",
      "WARNING:Unable to find amino or nucleic acid definition for CA.  Parsing as new residue.\n",
      "WARNING:Unable to find amino or nucleic acid definition for CL.  Parsing as new residue.\n",
      "INFO:Created biomolecule object with 1043 residues and 9395 atoms.\n",
      "INFO:Setting termini states for biomolecule chains.\n",
      "WARNING:Gap in backbone detected between ARG A 704 and SER A 714!\n",
      "WARNING:Gap in backbone detected between ARG B 704 and GLY B 713!\n",
      "INFO:Loading forcefield.\n",
      "INFO:Loading hydrogen topology definitions.\n",
      "WARNING:Missing atom CG in residue ARG A 523\n",
      "WARNING:Missing atom CD in residue ARG A 523\n",
      "WARNING:Missing atom NE in residue ARG A 523\n",
      "WARNING:Missing atom CZ in residue ARG A 523\n",
      "WARNING:Missing atom NH1 in residue ARG A 523\n",
      "WARNING:Missing atom NH2 in residue ARG A 523\n",
      "WARNING:Missing atom CG in residue ASP A 526\n",
      "WARNING:Missing atom OD1 in residue ASP A 526\n",
      "WARNING:Missing atom OD2 in residue ASP A 526\n",
      "WARNING:Missing atom CG in residue GLN A 536\n",
      "WARNING:Missing atom CD in residue GLN A 536\n",
      "WARNING:Missing atom OE1 in residue GLN A 536\n",
      "WARNING:Missing atom NE2 in residue GLN A 536\n",
      "WARNING:Missing atom CG in residue ASP A 538\n",
      "WARNING:Missing atom OD1 in residue ASP A 538\n",
      "WARNING:Missing atom OD2 in residue ASP A 538\n",
      "WARNING:Missing atom CG in residue GLU A 539\n",
      "WARNING:Missing atom CD in residue GLU A 539\n",
      "WARNING:Missing atom OE1 in residue GLU A 539\n",
      "WARNING:Missing atom OE2 in residue GLU A 539\n",
      "WARNING:Missing atom CG in residue ARG A 545\n",
      "WARNING:Missing atom CD in residue ARG A 545\n",
      "WARNING:Missing atom NE in residue ARG A 545\n",
      "WARNING:Missing atom CZ in residue ARG A 545\n",
      "WARNING:Missing atom NH1 in residue ARG A 545\n",
      "WARNING:Missing atom NH2 in residue ARG A 545\n",
      "WARNING:Missing atom CG in residue HIS A 578\n",
      "WARNING:Missing atom ND1 in residue HIS A 578\n",
      "WARNING:Missing atom CD2 in residue HIS A 578\n",
      "WARNING:Missing atom CE1 in residue HIS A 578\n",
      "WARNING:Missing atom NE2 in residue HIS A 578\n",
      "WARNING:Missing atom CG1 in residue VAL A 581\n",
      "WARNING:Missing atom CG2 in residue VAL A 581\n",
      "WARNING:Missing atom CG in residue ASN A 591\n",
      "WARNING:Missing atom OD1 in residue ASN A 591\n",
      "WARNING:Missing atom ND2 in residue ASN A 591\n",
      "WARNING:Missing atom CG in residue ARG A 592\n",
      "WARNING:Missing atom CD in residue ARG A 592\n",
      "WARNING:Missing atom NE in residue ARG A 592\n",
      "WARNING:Missing atom CZ in residue ARG A 592\n",
      "WARNING:Missing atom NH1 in residue ARG A 592\n",
      "WARNING:Missing atom NH2 in residue ARG A 592\n",
      "WARNING:Missing atom CG in residue GLU A 593\n",
      "WARNING:Missing atom CD in residue GLU A 593\n",
      "WARNING:Missing atom OE1 in residue GLU A 593\n",
      "WARNING:Missing atom OE2 in residue GLU A 593\n",
      "WARNING:Missing atom CG in residue GLU A 766\n",
      "WARNING:Missing atom CD in residue GLU A 766\n",
      "WARNING:Missing atom OE1 in residue GLU A 766\n",
      "WARNING:Missing atom OE2 in residue GLU A 766\n",
      "WARNING:Missing atom OXT in residue ALA A 833\n",
      "WARNING:Missing atom CG in residue ARG B 545\n",
      "WARNING:Missing atom CD in residue ARG B 545\n",
      "WARNING:Missing atom NE in residue ARG B 545\n",
      "WARNING:Missing atom CZ in residue ARG B 545\n",
      "WARNING:Missing atom NH1 in residue ARG B 545\n",
      "WARNING:Missing atom NH2 in residue ARG B 545\n",
      "WARNING:Missing atom CG in residue ARG B 592\n",
      "WARNING:Missing atom CD in residue ARG B 592\n",
      "WARNING:Missing atom NE in residue ARG B 592\n",
      "WARNING:Missing atom CZ in residue ARG B 592\n",
      "WARNING:Missing atom NH1 in residue ARG B 592\n",
      "WARNING:Missing atom NH2 in residue ARG B 592\n",
      "WARNING:Missing atom CG in residue GLU B 593\n",
      "WARNING:Missing atom CD in residue GLU B 593\n",
      "WARNING:Missing atom OE1 in residue GLU B 593\n",
      "WARNING:Missing atom OE2 in residue GLU B 593\n",
      "WARNING:Missing atom CG in residue ARG B 704\n",
      "WARNING:Missing atom CD in residue ARG B 704\n",
      "WARNING:Missing atom NE in residue ARG B 704\n",
      "WARNING:Missing atom CZ in residue ARG B 704\n",
      "WARNING:Missing atom NH1 in residue ARG B 704\n",
      "WARNING:Missing atom NH2 in residue ARG B 704\n",
      "WARNING:Missing atom OXT in residue ALA B 833\n",
      "WARNING:Missing atom CG in residue ARG A 523\n",
      "WARNING:Missing atom CD in residue ARG A 523\n",
      "WARNING:Missing atom NE in residue ARG A 523\n",
      "WARNING:Missing atom CZ in residue ARG A 523\n",
      "WARNING:Missing atom NH1 in residue ARG A 523\n",
      "WARNING:Missing atom NH2 in residue ARG A 523\n",
      "WARNING:Missing atom CG in residue ASP A 526\n",
      "WARNING:Missing atom OD1 in residue ASP A 526\n",
      "WARNING:Missing atom OD2 in residue ASP A 526\n",
      "WARNING:Missing atom CG in residue GLN A 536\n",
      "WARNING:Missing atom CD in residue GLN A 536\n",
      "WARNING:Missing atom OE1 in residue GLN A 536\n",
      "WARNING:Missing atom NE2 in residue GLN A 536\n",
      "WARNING:Missing atom CG in residue ASP A 538\n",
      "WARNING:Missing atom OD1 in residue ASP A 538\n",
      "WARNING:Missing atom OD2 in residue ASP A 538\n",
      "WARNING:Missing atom CG in residue GLU A 539\n",
      "WARNING:Missing atom CD in residue GLU A 539\n",
      "WARNING:Missing atom OE1 in residue GLU A 539\n",
      "WARNING:Missing atom OE2 in residue GLU A 539\n",
      "WARNING:Missing atom CG in residue ARG A 545\n",
      "WARNING:Missing atom CD in residue ARG A 545\n",
      "WARNING:Missing atom NE in residue ARG A 545\n",
      "WARNING:Missing atom CZ in residue ARG A 545\n",
      "WARNING:Missing atom NH1 in residue ARG A 545\n",
      "WARNING:Missing atom NH2 in residue ARG A 545\n",
      "WARNING:Missing atom CG in residue HIS A 578\n",
      "WARNING:Missing atom ND1 in residue HIS A 578\n",
      "WARNING:Missing atom CD2 in residue HIS A 578\n",
      "WARNING:Missing atom CE1 in residue HIS A 578\n",
      "WARNING:Missing atom NE2 in residue HIS A 578\n",
      "WARNING:Missing atom CG1 in residue VAL A 581\n",
      "WARNING:Missing atom CG2 in residue VAL A 581\n",
      "WARNING:Missing atom CG in residue ASN A 591\n",
      "WARNING:Missing atom OD1 in residue ASN A 591\n",
      "WARNING:Missing atom ND2 in residue ASN A 591\n",
      "WARNING:Missing atom CG in residue ARG A 592\n",
      "WARNING:Missing atom CD in residue ARG A 592\n",
      "WARNING:Missing atom NE in residue ARG A 592\n",
      "WARNING:Missing atom CZ in residue ARG A 592\n",
      "WARNING:Missing atom NH1 in residue ARG A 592\n",
      "WARNING:Missing atom NH2 in residue ARG A 592\n",
      "WARNING:Missing atom CG in residue GLU A 593\n",
      "WARNING:Missing atom CD in residue GLU A 593\n",
      "WARNING:Missing atom OE1 in residue GLU A 593\n",
      "WARNING:Missing atom OE2 in residue GLU A 593\n",
      "WARNING:Missing atom CG in residue GLU A 766\n",
      "WARNING:Missing atom CD in residue GLU A 766\n",
      "WARNING:Missing atom OE1 in residue GLU A 766\n",
      "WARNING:Missing atom OE2 in residue GLU A 766\n",
      "WARNING:Missing atom OXT in residue ALA A 833\n",
      "WARNING:Missing atom CG in residue ARG B 545\n",
      "WARNING:Missing atom CD in residue ARG B 545\n",
      "WARNING:Missing atom NE in residue ARG B 545\n",
      "WARNING:Missing atom CZ in residue ARG B 545\n",
      "WARNING:Missing atom NH1 in residue ARG B 545\n",
      "WARNING:Missing atom NH2 in residue ARG B 545\n",
      "WARNING:Missing atom CG in residue ARG B 592\n",
      "WARNING:Missing atom CD in residue ARG B 592\n",
      "WARNING:Missing atom NE in residue ARG B 592\n",
      "WARNING:Missing atom CZ in residue ARG B 592\n",
      "WARNING:Missing atom NH1 in residue ARG B 592\n",
      "WARNING:Missing atom NH2 in residue ARG B 592\n",
      "WARNING:Missing atom CG in residue GLU B 593\n",
      "WARNING:Missing atom CD in residue GLU B 593\n",
      "WARNING:Missing atom OE1 in residue GLU B 593\n",
      "WARNING:Missing atom OE2 in residue GLU B 593\n",
      "WARNING:Missing atom CG in residue ARG B 704\n",
      "WARNING:Missing atom CD in residue ARG B 704\n",
      "WARNING:Missing atom NE in residue ARG B 704\n",
      "WARNING:Missing atom CZ in residue ARG B 704\n",
      "WARNING:Missing atom NH1 in residue ARG B 704\n",
      "WARNING:Missing atom NH2 in residue ARG B 704\n",
      "WARNING:Missing atom OXT in residue ALA B 833\n",
      "INFO:Attempting to repair 74 missing atoms in biomolecule.\n",
      "WARNING:Missing atom CG in residue ARG A 523\n",
      "WARNING:Missing atom CD in residue ARG A 523\n",
      "WARNING:Missing atom NE in residue ARG A 523\n",
      "WARNING:Missing atom CZ in residue ARG A 523\n",
      "WARNING:Missing atom NH1 in residue ARG A 523\n",
      "WARNING:Missing atom NH2 in residue ARG A 523\n",
      "WARNING:Missing atom CG in residue ASP A 526\n",
      "WARNING:Missing atom OD1 in residue ASP A 526\n",
      "WARNING:Missing atom OD2 in residue ASP A 526\n",
      "WARNING:Missing atom CG in residue GLN A 536\n",
      "WARNING:Missing atom CD in residue GLN A 536\n",
      "WARNING:Missing atom OE1 in residue GLN A 536\n",
      "WARNING:Missing atom NE2 in residue GLN A 536\n",
      "WARNING:Missing atom CG in residue ASP A 538\n",
      "WARNING:Missing atom OD1 in residue ASP A 538\n",
      "WARNING:Missing atom OD2 in residue ASP A 538\n",
      "WARNING:Missing atom CG in residue GLU A 539\n",
      "WARNING:Missing atom CD in residue GLU A 539\n",
      "WARNING:Missing atom OE1 in residue GLU A 539\n",
      "WARNING:Missing atom OE2 in residue GLU A 539\n",
      "WARNING:Missing atom CG in residue ARG A 545\n",
      "WARNING:Missing atom CD in residue ARG A 545\n",
      "WARNING:Missing atom NE in residue ARG A 545\n",
      "WARNING:Missing atom CZ in residue ARG A 545\n",
      "WARNING:Missing atom NH1 in residue ARG A 545\n",
      "WARNING:Missing atom NH2 in residue ARG A 545\n",
      "WARNING:Missing atom CG in residue HIS A 578\n",
      "WARNING:Missing atom ND1 in residue HIS A 578\n",
      "WARNING:Missing atom CD2 in residue HIS A 578\n",
      "WARNING:Missing atom CE1 in residue HIS A 578\n",
      "WARNING:Missing atom NE2 in residue HIS A 578\n",
      "WARNING:Missing atom CG1 in residue VAL A 581\n",
      "WARNING:Missing atom CG2 in residue VAL A 581\n",
      "WARNING:Missing atom CG in residue ASN A 591\n",
      "WARNING:Missing atom OD1 in residue ASN A 591\n",
      "WARNING:Missing atom ND2 in residue ASN A 591\n",
      "WARNING:Missing atom CG in residue ARG A 592\n",
      "WARNING:Missing atom CD in residue ARG A 592\n",
      "WARNING:Missing atom NE in residue ARG A 592\n",
      "WARNING:Missing atom CZ in residue ARG A 592\n",
      "WARNING:Missing atom NH1 in residue ARG A 592\n",
      "WARNING:Missing atom NH2 in residue ARG A 592\n",
      "WARNING:Missing atom CG in residue GLU A 593\n",
      "WARNING:Missing atom CD in residue GLU A 593\n",
      "WARNING:Missing atom OE1 in residue GLU A 593\n",
      "WARNING:Missing atom OE2 in residue GLU A 593\n",
      "WARNING:Missing atom CG in residue GLU A 766\n",
      "WARNING:Missing atom CD in residue GLU A 766\n",
      "WARNING:Missing atom OE1 in residue GLU A 766\n",
      "WARNING:Missing atom OE2 in residue GLU A 766\n",
      "WARNING:Missing atom OXT in residue ALA A 833\n",
      "WARNING:Missing atom CG in residue ARG B 545\n",
      "WARNING:Missing atom CD in residue ARG B 545\n",
      "WARNING:Missing atom NE in residue ARG B 545\n",
      "WARNING:Missing atom CZ in residue ARG B 545\n",
      "WARNING:Missing atom NH1 in residue ARG B 545\n",
      "WARNING:Missing atom NH2 in residue ARG B 545\n",
      "WARNING:Missing atom CG in residue ARG B 592\n",
      "WARNING:Missing atom CD in residue ARG B 592\n",
      "WARNING:Missing atom NE in residue ARG B 592\n",
      "WARNING:Missing atom CZ in residue ARG B 592\n",
      "WARNING:Missing atom NH1 in residue ARG B 592\n",
      "WARNING:Missing atom NH2 in residue ARG B 592\n",
      "WARNING:Missing atom CG in residue GLU B 593\n",
      "WARNING:Missing atom CD in residue GLU B 593\n",
      "WARNING:Missing atom OE1 in residue GLU B 593\n",
      "WARNING:Missing atom OE2 in residue GLU B 593\n",
      "WARNING:Missing atom CG in residue ARG B 704\n",
      "WARNING:Missing atom CD in residue ARG B 704\n",
      "WARNING:Missing atom NE in residue ARG B 704\n",
      "WARNING:Missing atom CZ in residue ARG B 704\n",
      "WARNING:Missing atom NH1 in residue ARG B 704\n",
      "WARNING:Missing atom NH2 in residue ARG B 704\n",
      "WARNING:Missing atom OXT in residue ALA B 833\n",
      "INFO:Added atom CG to residue ARG A 523 at coordinates 42.074, 70.611, 77.243\n",
      "INFO:Added atom CD to residue ARG A 523 at coordinates 42.912, 71.832, 77.141\n",
      "INFO:Added atom NE to residue ARG A 523 at coordinates 43.607, 72.129, 78.386\n",
      "INFO:Added atom CZ to residue ARG A 523 at coordinates 44.416, 73.171, 78.543\n",
      "INFO:Added atom NH1 to residue ARG A 523 at coordinates 44.801, 73.910, 77.508\n",
      "INFO:Added atom NH2 to residue ARG A 523 at coordinates 44.892, 73.451, 79.753\n",
      "INFO:Added atom CG to residue ASP A 526 at coordinates 39.343, 65.559, 68.709\n",
      "INFO:Added atom OD1 to residue ASP A 526 at coordinates 39.327, 66.740, 68.300\n",
      "INFO:Added atom OD2 to residue ASP A 526 at coordinates 40.372, 64.990, 69.103\n",
      "INFO:Added atom CG to residue GLN A 536 at coordinates 33.677, 72.242, 67.647\n",
      "INFO:Added atom CD to residue GLN A 536 at coordinates 33.958, 73.715, 67.724\n",
      "INFO:Added atom OE1 to residue GLN A 536 at coordinates 33.348, 74.465, 68.491\n",
      "INFO:Added atom NE2 to residue GLN A 536 at coordinates 34.903, 74.166, 66.891\n",
      "INFO:Added atom CG to residue ASP A 538 at coordinates 26.441, 70.935, 72.730\n",
      "INFO:Added atom OD1 to residue ASP A 538 at coordinates 27.199, 71.144, 71.759\n",
      "INFO:Added atom OD2 to residue ASP A 538 at coordinates 25.230, 70.694, 72.607\n",
      "INFO:Added atom CG to residue GLU A 539 at coordinates 26.457, 72.153, 78.281\n",
      "INFO:Added atom CD to residue GLU A 539 at coordinates 25.510, 71.314, 79.075\n",
      "INFO:Added atom OE1 to residue GLU A 539 at coordinates 25.865, 70.457, 79.875\n",
      "INFO:Added atom OE2 to residue GLU A 539 at coordinates 24.316, 71.575, 78.825\n",
      "INFO:Added atom CG to residue ARG A 545 at coordinates 24.501, 68.326, 69.732\n",
      "INFO:Added atom CD to residue ARG A 545 at coordinates 24.041, 69.467, 68.929\n",
      "INFO:Added atom NE to residue ARG A 545 at coordinates 24.008, 70.713, 69.677\n",
      "INFO:Added atom CZ to residue ARG A 545 at coordinates 23.628, 71.876, 69.166\n",
      "INFO:Added atom NH1 to residue ARG A 545 at coordinates 23.431, 72.018, 67.857\n",
      "INFO:Added atom NH2 to residue ARG A 545 at coordinates 23.491, 72.930, 69.962\n",
      "INFO:Added atom CG to residue HIS A 578 at coordinates 7.668, 38.865, 42.796\n",
      "INFO:Added atom ND1 to residue HIS A 578 at coordinates 8.361, 39.620, 43.707\n",
      "INFO:Added atom CD2 to residue HIS A 578 at coordinates 6.516, 38.505, 43.407\n",
      "INFO:Added atom CE1 to residue HIS A 578 at coordinates 7.654, 39.714, 44.818\n",
      "INFO:Added atom NE2 to residue HIS A 578 at coordinates 6.527, 39.049, 44.665\n",
      "INFO:Added atom CG1 to residue VAL A 581 at coordinates 8.178, 28.264, 37.685\n",
      "INFO:Added atom CG2 to residue VAL A 581 at coordinates 6.468, 29.920, 36.925\n",
      "INFO:Added atom CG to residue ASN A 591 at coordinates 28.210, 18.796, 61.032\n",
      "INFO:Added atom OD1 to residue ASN A 591 at coordinates 27.034, 19.080, 60.769\n",
      "INFO:Added atom ND2 to residue ASN A 591 at coordinates 28.563, 17.660, 61.626\n",
      "INFO:Added atom CG to residue ARG A 592 at coordinates 32.202, 21.518, 56.027\n",
      "INFO:Added atom CD to residue ARG A 592 at coordinates 32.393, 21.533, 54.553\n",
      "INFO:Added atom NE to residue ARG A 592 at coordinates 32.802, 20.233, 54.039\n",
      "INFO:Added atom CZ to residue ARG A 592 at coordinates 33.035, 19.995, 52.753\n",
      "INFO:Added atom NH1 to residue ARG A 592 at coordinates 32.722, 20.884, 51.817\n",
      "INFO:Added atom NH2 to residue ARG A 592 at coordinates 33.545, 18.822, 52.389\n",
      "INFO:Added atom CG to residue GLU A 593 at coordinates 29.651, 25.845, 61.458\n",
      "INFO:Added atom CD to residue GLU A 593 at coordinates 30.196, 26.366, 62.751\n",
      "INFO:Added atom OE1 to residue GLU A 593 at coordinates 30.929, 27.341, 62.839\n",
      "INFO:Added atom OE2 to residue GLU A 593 at coordinates 29.826, 25.686, 63.731\n",
      "INFO:Added atom CG to residue GLU A 766 at coordinates 42.212, 45.717, 65.100\n",
      "INFO:Added atom CD to residue GLU A 766 at coordinates 42.996, 45.701, 66.375\n",
      "INFO:Added atom OE1 to residue GLU A 766 at coordinates 43.447, 46.702, 66.913\n",
      "INFO:Added atom OE2 to residue GLU A 766 at coordinates 43.149, 44.546, 66.824\n",
      "INFO:Added atom OXT to residue ALA A 833 at coordinates 12.422, 17.203, 59.914\n",
      "INFO:Added atom CG to residue ARG B 545 at coordinates 62.216, 18.782, 3.574\n",
      "INFO:Added atom CD to residue ARG B 545 at coordinates 61.296, 17.639, 3.509\n",
      "INFO:Added atom NE to residue ARG B 545 at coordinates 61.958, 16.395, 3.151\n",
      "INFO:Added atom CZ to residue ARG B 545 at coordinates 61.336, 15.230, 3.030\n",
      "INFO:Added atom NH1 to residue ARG B 545 at coordinates 60.073, 15.084, 3.423\n",
      "INFO:Added atom NH2 to residue ARG B 545 at coordinates 61.996, 14.179, 2.559\n",
      "INFO:Added atom CG to residue ARG B 592 at coordinates 55.183, 68.904, 15.625\n",
      "INFO:Added atom CD to residue ARG B 592 at coordinates 54.354, 70.064, 16.047\n",
      "INFO:Added atom NE to residue ARG B 592 at coordinates 54.820, 71.313, 15.458\n",
      "INFO:Added atom CZ to residue ARG B 592 at coordinates 54.242, 72.487, 15.685\n",
      "INFO:Added atom NH1 to residue ARG B 592 at coordinates 53.075, 72.576, 16.314\n",
      "INFO:Added atom NH2 to residue ARG B 592 at coordinates 54.818, 73.596, 15.227\n",
      "INFO:Added atom CG to residue GLU B 593 at coordinates 52.674, 64.220, 18.419\n",
      "INFO:Added atom CD to residue GLU B 593 at coordinates 51.371, 64.466, 19.110\n",
      "INFO:Added atom OE1 to residue GLU B 593 at coordinates 50.327, 63.898, 18.820\n",
      "INFO:Added atom OE2 to residue GLU B 593 at coordinates 51.465, 65.325, 20.010\n",
      "INFO:Added atom CG to residue ARG B 704 at coordinates 33.698, 63.822, 33.515\n",
      "INFO:Added atom CD to residue ARG B 704 at coordinates 34.432, 65.109, 33.654\n",
      "INFO:Added atom NE to residue ARG B 704 at coordinates 35.856, 64.957, 33.392\n",
      "INFO:Added atom CZ to residue ARG B 704 at coordinates 36.721, 65.963, 33.455\n",
      "INFO:Added atom NH1 to residue ARG B 704 at coordinates 36.313, 67.222, 33.570\n",
      "INFO:Added atom NH2 to residue ARG B 704 at coordinates 38.024, 65.711, 33.347\n",
      "INFO:Added atom OXT to residue ALA B 833 at coordinates 50.103, 70.757, -3.693\n",
      "INFO:Updating disulfide bridges.\n",
      "INFO:Debumping biomolecule.\n",
      "INFO:Adding hydrogens to biomolecule.\n",
      "INFO:Debumping biomolecule (again).\n",
      "INFO:Optimizing hydrogen bonds\n",
      "WARNING:Skipped atom during water optimization: H2 in HOH A 1168 skipped when optimizing H1 in HOH A 1223\n",
      "WARNING:Skipped atom during water optimization: H2 in HOH A 1109 skipped when optimizing H1 in HOH A 1223\n",
      "WARNING:Skipped atom during water optimization: H1 in HOH A 1223 skipped when optimizing H2 in HOH A 1109\n",
      "WARNING:Skipped atom during water optimization: H1 in HOH A 1135 skipped when optimizing H2 in HOH A 1170\n",
      "WARNING:Skipped atom during water optimization: H1 in HOH A 1135 skipped when optimizing H2 in HOH A 1170\n",
      "WARNING:Skipped atom during water optimization: H2 in HOH A 1109 skipped when optimizing H2 in HOH A 1170\n",
      "WARNING:Skipped atom during water optimization: H2 in HOH A 1109 skipped when optimizing H2 in HOH A 1170\n",
      "WARNING:Skipped atom during water optimization: H2 in HOH A 1109 skipped when optimizing H2 in HOH A 1170\n",
      "WARNING:Skipped atom during water optimization: H2 in HOH A 1109 skipped when optimizing H2 in HOH A 1170\n",
      "WARNING:Suppressing further \"Skipped atom during water optimization\" messages\n",
      "INFO:Applying force field to biomolecule states.\n",
      "INFO:Regenerating headers.\n",
      "INFO:Regenerating PDB lines.\n",
      "WARNING:Ignoring 890 header lines in output.\n",
      "WARNING:Ignoring 4 missing lines in output.\n"
     ]
    }
   ],
   "source": [
    "!pdb2pqr --apbs-input {struct_id}_apbs.in --ff AMBER {struct_id}.pdb {struct_id}.pqr"
   ]
  },
  {
   "cell_type": "code",
   "execution_count": 114,
   "metadata": {
    "scrolled": true
   },
   "outputs": [
    {
     "name": "stdout",
     "output_type": "stream",
     "text": [
      "\n",
      "\n",
      "----------------------------------------------------------------------\n",
      "    APBS -- Adaptive Poisson-Boltzmann Solver\n",
      "    Version 1.5\n",
      "    \n",
      "    Nathan A. Baker (nathan.baker@pnnl.gov)\n",
      "    Pacific Northwest National Laboratory\n",
      "    \n",
      "    Additional contributing authors listed in the code documentation.\n",
      "    \n",
      "    Copyright (c) 2010-2014 Battelle Memorial Institute. Developed at the Pacific\n",
      "    Northwest National Laboratory, operated by Battelle Memorial Institute, Pacific\n",
      "    Northwest Division for the U.S. Department of Energy.\n",
      "    \n",
      "    Portions Copyright (c) 2002-2010, Washington University in St. Louis.\n",
      "    Portions Copyright (c) 2002-2010, Nathan A. Baker.\n",
      "    Portions Copyright (c) 1999-2002, The Regents of the University of California.\n",
      "    Portions Copyright (c) 1995, Michael Holst.\n",
      "    All rights reserved.\n",
      "    \n",
      "    Redistribution and use in source and binary forms, with or without\n",
      "    modification, are permitted provided that the following conditions are met:\n",
      "    \n",
      "    * Redistributions of source code must retain the above copyright notice, this\n",
      "      list of conditions and the following disclaimer.\n",
      "    \n",
      "    * Redistributions in binary form must reproduce the above copyright notice,\n",
      "      this list of conditions and the following disclaimer in the documentation\n",
      "      and/or other materials provided with the distribution.\n",
      "    \n",
      "    * Neither the name of the developer nor the names of its contributors may be\n",
      "      used to endorse or promote products derived from this software without\n",
      "      specific prior written permission.\n",
      "    \n",
      "    THIS SOFTWARE IS PROVIDED BY THE COPYRIGHT HOLDERS AND CONTRIBUTORS \"AS IS\" AND\n",
      "    ANY EXPRESS OR IMPLIED WARRANTIES, INCLUDING, BUT NOT LIMITED TO, THE IMPLIED\n",
      "    WARRANTIES OF MERCHANTABILITY AND FITNESS FOR A PARTICULAR PURPOSE ARE\n",
      "    DISCLAIMED. IN NO EVENT SHALL THE COPYRIGHT OWNER OR CONTRIBUTORS BE LIABLE FOR\n",
      "    ANY DIRECT, INDIRECT, INCIDENTAL, SPECIAL, EXEMPLARY, OR CONSEQUENTIAL DAMAGES\n",
      "    (INCLUDING, BUT NOT LIMITED TO, PROCUREMENT OF SUBSTITUTE GOODS OR SERVICES;\n",
      "    LOSS OF USE, DATA, OR PROFITS; OR BUSINESS INTERRUPTION) HOWEVER CAUSED AND\n",
      "    ON ANY THEORY OF LIABILITY, WHETHER IN CONTRACT, STRICT LIABILITY, OR TORT\n",
      "    (INCLUDING NEGLIGENCE OR OTHERWISE) ARISING IN ANY WAY OUT OF THE USE OF THIS\n",
      "    SOFTWARE, EVEN IF ADVISED OF THE POSSIBILITY OF SUCH DAMAGE.\n",
      "----------------------------------------------------------------------\n",
      "    APBS uses FETK (the Finite Element ToolKit) to solve the\n",
      "    Poisson-Boltzmann equation numerically.  FETK is a portable collection\n",
      "    of finite element modeling class libraries developed by the Michael Holst\n",
      "    research group and written in an object-oriented form of C.  FEtk is\n",
      "    designed to solve general coupled systems of nonlinear partial differential\n",
      "    equations using adaptive finite element methods, inexact Newton methods,\n",
      "    and algebraic multilevel methods.  More information about FEtk may be found\n",
      "    at <http://www.FEtk.ORG>.\n",
      "----------------------------------------------------------------------\n",
      "    APBS also uses Aqua to solve the Poisson-Boltzmann equation numerically.  \n",
      "    Aqua is a modified form of the Holst group PMG library <http://www.FEtk.ORG>\n",
      "    which has been modified by Patrice Koehl\n",
      "    <http://koehllab.genomecenter.ucdavis.edu/> for improved efficiency and\n",
      "    memory usage when solving the Poisson-Boltzmann equation.\n",
      "----------------------------------------------------------------------\n",
      "    Please cite your use of APBS as:\n",
      "\n",
      "    Baker NA, Sept D, Joseph S, Holst MJ, McCammon JA. Electrostatics of\n",
      "    nanosystems: application to microtubules and the ribosome. Proc.\n",
      "    Natl. Acad. Sci. USA 98, 10037-10041 2001.\n",
      "    \n",
      "\n",
      "This executable compiled on May 30 2019 at 19:36:46\n",
      "\n",
      "Parsing input file 5LF2_apbs.in...\n",
      "rank 0 size 1...\n",
      "read\n",
      "Parsed input file.\n",
      "Got paths for 1 molecules\n",
      "Reading PQR-format atom data from 5LF2.pqr.\n",
      "  9999 atoms\n",
      "  Centered at (4.009e+01, 4.270e+01, 3.363e+01)\n",
      "  Net charge -1.10e+01 e\n",
      "Preparing to run 2 PBE calculations.\n",
      "----------------------------------------\n",
      "CALCULATION #1: MULTIGRID\n",
      "  Setting up problem...\n",
      "  Vpbe_ctor:  Using max ion radius (0 A) for exclusion function\n",
      "  Debye length:  0 A\n",
      "  Current memory usage:  1608.126 MB total, 1608.126 MB high water\n",
      "  Using cubic spline charge discretization.\n",
      "  Grid dimensions: 193 x 161 x 225\n",
      "  Grid spacings: 0.657 x 0.711 x 0.754\n",
      "  Grid lengths: 126.200 x 113.781 x 169.000\n",
      "  Grid center: (40.091, 42.695, 33.630)\n",
      "  Multigrid levels: 4\n",
      "  Molecule ID: 1\n",
      "  Linearized traditional PBE\n",
      "  Single Debye-Huckel sphere boundary conditions\n",
      "  0 ion species (0.000 M ionic strength):\n",
      "  Solute dielectric: 2.000\n",
      "  Solvent dielectric: 78.540\n",
      "  Using \"molecular\" surface definition;harmonic average smoothing\n",
      "  Solvent probe radius: 1.400 A\n",
      "  Temperature:  298.150 K\n",
      "  Electrostatic energies will be calculated\n",
      "  Total electrostatic energy = 3.227585002559E+05 kJ/mol\n",
      "  Calculating forces...\n",
      "----------------------------------------\n",
      "CALCULATION #2: MULTIGRID\n",
      "  Setting up problem...\n",
      "  Vpbe_ctor:  Using max ion radius (0 A) for exclusion function\n",
      "  Debye length:  0 A\n",
      "  Current memory usage:  1608.126 MB total, 3202.304 MB high water\n",
      "  Using cubic spline charge discretization.\n",
      "  Grid dimensions: 193 x 161 x 225\n",
      "  Grid spacings: 0.491 x 0.543 x 0.533\n",
      "  Grid lengths: 94.235 x 86.930 x 119.412\n",
      "  Grid center: (40.091, 42.695, 33.630)\n",
      "  Multigrid levels: 4\n",
      "  Molecule ID: 1\n",
      "  Linearized traditional PBE\n",
      "  Boundary conditions from focusing\n",
      "  0 ion species (0.000 M ionic strength):\n",
      "  Solute dielectric: 2.000\n",
      "  Solvent dielectric: 78.540\n",
      "  Using \"molecular\" surface definition;harmonic average smoothing\n",
      "  Solvent probe radius: 1.400 A\n",
      "  Temperature:  298.150 K\n",
      "  Electrostatic energies will be calculated\n",
      "  Potential to be written to 5LF2.pqr.dx\n",
      "  Total electrostatic energy = 6.123171787131E+05 kJ/mol\n",
      "  Calculating forces...\n",
      "  Writing potential to 5LF2.pqr.dx\n",
      "----------------------------------------\n",
      "PRINT STATEMENTS\n",
      "\n",
      "print energy 1 end\n",
      "  Local net energy (PE 0) = 6.123171787131E+05 kJ/mol\n",
      "  Global net ELEC energy = 6.123171787131E+05 kJ/mol\n",
      "----------------------------------------\n",
      "CLEANING UP AND SHUTTING DOWN...\n",
      "Destroying force arrays.\n",
      "No energy arrays to destroy.\n",
      "Destroying multigrid structures.\n",
      "Destroying 1 molecules\n",
      "Final memory usage:  0.001 MB total, 3202.304 MB high water\n",
      "\n",
      "\n",
      "Thanks for using APBS!\n",
      "\n"
     ]
    }
   ],
   "source": [
    "!apbs {struct_id}_apbs.in"
   ]
  },
  {
   "cell_type": "markdown",
   "metadata": {},
   "source": [
    "Uploaded files with `.pqr` and `.dx` extensions to UCSF Chimera. In the **Model Panel** I included a model with the `.dx` extension and painted the surface based on it.\n",
    "\n",
    "![](fig.2.png)"
   ]
  },
  {
   "cell_type": "markdown",
   "metadata": {},
   "source": [
    "## 7. Dynamics analysis\n",
    "\n",
    "Using `prody`, I parsed the PDB structure and wrote the resulting object `prody.atomic.atomgroup.AtomGroup` into the `prody_protein` variable."
   ]
  },
  {
   "cell_type": "code",
   "execution_count": 123,
   "metadata": {},
   "outputs": [
    {
     "name": "stderr",
     "output_type": "stream",
     "text": [
      "@> 9395 atoms and 1 coordinate set(s) were parsed in 0.14s.\n"
     ]
    },
    {
     "data": {
      "image/png": "[encoded data removed]",
      "text/plain": [
       "<Figure size 640x480 with 1 Axes>"
      ]
     },
     "metadata": {},
     "output_type": "display_data"
    }
   ],
   "source": [
    "prody_protein = prody.parsePDB(f'{struct_id}.pdb')\n",
    "_ = prody.showProtein(prody_protein)"
   ]
  },
  {
   "cell_type": "code",
   "execution_count": 120,
   "metadata": {},
   "outputs": [
    {
     "data": {
      "text/plain": [
       "prody.atomic.atomgroup.AtomGroup"
      ]
     },
     "execution_count": 120,
     "metadata": {},
     "output_type": "execute_result"
    }
   ],
   "source": [
    "type(prody_protein)"
   ]
  },
  {
   "cell_type": "markdown",
   "metadata": {},
   "source": [
    "Based on the resulting object, I created an anisotropic network model (ANM). In simple words, this is a model in which all $C_\\alpha$ atoms are represented as balls connected by springs."
   ]
  },
  {
   "cell_type": "code",
   "execution_count": 125,
   "metadata": {},
   "outputs": [
    {
     "name": "stderr",
     "output_type": "stream",
     "text": [
      "@> Hessian was built in 0.18s.\n",
      "@> 20 modes were calculated in 0.44s.\n"
     ]
    },
    {
     "data": {
      "text/plain": [
       "'5LF2.nmd'"
      ]
     },
     "execution_count": 125,
     "metadata": {},
     "output_type": "execute_result"
    }
   ],
   "source": [
    "protein = prody_protein.select('protein')\n",
    "anm, atoms = prody.calcANM(protein, selstr='calpha')\n",
    "slowest_mode = anm[0]\n",
    "prody.writeNMD(f'{struct_id}.nmd', anm[:3], atoms)"
   ]
  },
  {
   "cell_type": "markdown",
   "metadata": {},
   "source": [
    "Run VMD to visualize dynamics based on ANM model recorded in `.nmd` format. To do this, I performed the following steps in VMD: `Extensions > Analysis > Normal Mode Wizard > Load NMD File`.\n",
    "\n",
    "The result is an image of a protein frame with arrows."
   ]
  },
  {
   "cell_type": "markdown",
   "metadata": {},
   "source": [
    "![](fig.3.png)"
   ]
  }
 ],
 "metadata": {
  "kernelspec": {
   "display_name": "Python 3 (ipykernel)",
   "language": "python",
   "name": "python3"
  },
  "language_info": {
   "codemirror_mode": {
    "name": "ipython",
    "version": 3
   },
   "file_extension": ".py",
   "mimetype": "text/x-python",
   "name": "python",
   "nbconvert_exporter": "python",
   "pygments_lexer": "ipython3",
   "version": "3.10.13"
  }
 },
 "nbformat": 4,
 "nbformat_minor": 4
}
